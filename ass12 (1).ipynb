{
 "cells": [
  {
   "cell_type": "code",
   "execution_count": 1,
   "id": "5b66fa9a-c13a-45fb-bc17-f3d73a29dee6",
   "metadata": {},
   "outputs": [
    {
     "name": "stdout",
     "output_type": "stream",
     "text": [
      "Square of 1: 1\n",
      "Square of 2: 4\n",
      "Square of 3: 9\n",
      "Square of 4: 16\n",
      "Square of 5: 25\n",
      "Cube of 1: 1\n",
      "Cube of 2: 8\n",
      "Cube of 3: 27\n",
      "Cube of 4: 64\n",
      "Cube of 5: 125\n"
     ]
    }
   ],
   "source": [
    "# 1\n",
    "# What is multithreading in Python? Why is it used? Name the module used to handle threads in Python.\n",
    "\n",
    "# Multithreading in Python refers to the ability of a program to execute multiple threads concurrently.\n",
    "# It is used to achieve concurrency and improve the performance of applications by utilizing multiple CPU cores efficiently.\n",
    "# The module used to handle threads in Python is called 'threading'.\n",
    "\n",
    "# 2\n",
    "# Why is the threading module used? Write the use of the following functions (activeCount, currentThread, enumerate)\n",
    "\n",
    "# The threading module is used to create and manage threads in Python.\n",
    "# - activeCount(): Returns the number of Thread objects currently alive.\n",
    "# - currentThread(): Returns the current Thread object.\n",
    "# - enumerate(): Returns a list of all Thread objects currently alive.\n",
    "\n",
    "# 3\n",
    "# Explain the following functions (run, start, join, isAlive)\n",
    "\n",
    "# - run(): Method representing the thread’s activity.\n",
    "# - start(): Method to start a thread’s activity.\n",
    "# - join(): Method blocks the calling thread until the thread whose join() method is called terminates.\n",
    "# - isAlive(): Method returns True if the thread is alive, False otherwise.\n",
    "\n",
    "# 4\n",
    "# Write a Python program to create two threads. Thread one must print the list of squares and thread two must print the list of cubes\n",
    "\n",
    "import threading\n",
    "\n",
    "def print_squares():\n",
    "    for i in range(1, 6):\n",
    "        print(f\"Square of {i}: {i*i}\")\n",
    "\n",
    "def print_cubes():\n",
    "    for i in range(1, 6):\n",
    "        print(f\"Cube of {i}: {i*i*i}\")\n",
    "\n",
    "t1 = threading.Thread(target=print_squares)\n",
    "t2 = threading.Thread(target=print_cubes)\n",
    "\n",
    "t1.start()\n",
    "t2.start()\n",
    "\n",
    "t1.join()\n",
    "t2.join()\n",
    "\n",
    "# 5\n",
    "# State advantages and disadvantages of multithreading\n",
    "\n",
    "# Advantages:\n",
    "# - Improved performance by utilizing multiple CPU cores.\n",
    "# - Increased responsiveness in I/O-bound applications.\n",
    "# - Simplified code structure for concurrent tasks.\n",
    "\n",
    "# Disadvantages:\n",
    "# - Increased complexity in managing shared resources leading to potential race conditions and deadlocks.\n",
    "# - Difficulty in debugging due to non-deterministic behavior.\n",
    "# - Global Interpreter Lock (GIL) in CPython limits true parallelism.\n",
    "\n",
    "# 6\n",
    "# Explain deadlocks and race conditions.\n",
    "\n",
    "# Deadlock: Deadlock occurs when two or more threads are blocked forever, waiting for each other to release resources.\n",
    "# Race Condition: Race condition occurs when two or more threads access shared data and attempt to change it at the same time, leading to unpredictable results.\n",
    "\n"
   ]
  },
  {
   "cell_type": "code",
   "execution_count": null,
   "id": "c66fcb7d-a52e-4aeb-a116-e998124d2fb0",
   "metadata": {},
   "outputs": [],
   "source": []
  }
 ],
 "metadata": {
  "kernelspec": {
   "display_name": "Python 3 (ipykernel)",
   "language": "python",
   "name": "python3"
  },
  "language_info": {
   "codemirror_mode": {
    "name": "ipython",
    "version": 3
   },
   "file_extension": ".py",
   "mimetype": "text/x-python",
   "name": "python",
   "nbconvert_exporter": "python",
   "pygments_lexer": "ipython3",
   "version": "3.10.8"
  }
 },
 "nbformat": 4,
 "nbformat_minor": 5
}
